{
 "cells": [
  {
   "cell_type": "markdown",
   "id": "cfca3043",
   "metadata": {},
   "source": [
    "## Read Data\n",
    "train data: [training.json](../../../data/groundtruth_dataset/Binary_PIP_Classifier/training.json)\n",
    "\n",
    "test data: [testing.json](../../../data/groundtruth_dataset/Binary_PIP_Classifier/testing.json)"
   ]
  },
  {
   "cell_type": "code",
   "execution_count": null,
   "id": "bb37ec3c",
   "metadata": {},
   "outputs": [],
   "source": [
    "import json\n",
    "import pandas as pd\n",
    "def read_data(filepath):\n",
    "    data = []\n",
    "    with open(filepath,'r') as f:\n",
    "        for line in f.readlines():\n",
    "            data.append(json.loads(line))\n",
    "    return data\n",
    "#TODO: \n",
    "train_data_path = '../../data/groundtruth_dataset/Binary_Multiclass_PIP_Classifier/training.json'\n",
    "test_data_path = '../../data/groundtruth_dataset/Binary_Multiclass_PIP_Classifier/testing.json'\n",
    "\n",
    "train_data = read_data(train_data_path)\n",
    "test_data = read_data(test_data_path)\n",
    "train_df = pd.DataFrame(train_data)\n",
    "eval_df = pd.DataFrame(test_data)"
   ]
  },
  {
   "cell_type": "markdown",
   "id": "cb49f0bb",
   "metadata": {},
   "source": [
    "## Binary Text Classifier\n",
    "### Training\n",
    "model name: bert-base-multilingual-uncased"
   ]
  },
  {
   "cell_type": "code",
   "execution_count": null,
   "id": "566c7003",
   "metadata": {
    "scrolled": true
   },
   "outputs": [],
   "source": [
    "#training\n",
    "from simpletransformers.classification import ClassificationModel\n",
    "\n",
    "EPOCH_NUM = 14\n",
    "args={'num_train_epochs':EPOCH_NUM, 'output_dir': \"outputs\"}\n",
    "text_model = ClassificationModel(\"bert\", \"bert-base-multilingual-uncased\", args=args)\n",
    "\n",
    "train_df_text = train_df\n",
    "train_df_text['labels'] = train_df_text['labels'].replace(['0','1'],[0,1]) \n",
    "\n",
    "text_model.train_model(train_df_text, output_dir=f\"output_text_train\")"
   ]
  },
  {
   "cell_type": "markdown",
   "id": "6b958617",
   "metadata": {},
   "source": [
    "### Evaluation"
   ]
  },
  {
   "cell_type": "code",
   "execution_count": null,
   "id": "6814c5d2",
   "metadata": {},
   "outputs": [],
   "source": [
    "#evaluation\n",
    "import os, re\n",
    "from simpletransformers.classification import ClassificationModel\n",
    "\n",
    "eval_df_text = eval_df\n",
    "eval_df_text['labels'] = eval_df_text['labels'].replace(['0','1'],[0,1]) \n",
    "model_name = 'outputs/checkpoint-18452-epoch-14'\n",
    "text_model = ClassificationModel(\"bert\", model_name)\n",
    "result_text, model_text_outputs, wrong_predictions = text_model.eval_model(eval_df_text)\n",
    "\n",
    "wrong_texts = [each.text_a for each in wrong_predictions]\n",
    "result_text['precision'] = result_text['tp'] / (result_text['tp'] + result_text['fp'])\n",
    "result_text['recall'] = result_text['tp'] / (result_text['tp'] + result_text['fn'])\n",
    "result_text['F1_score'] = 2 * result_text['precision'] * result_text['recall'] / (result_text['precision'] + result_text['recall'])\n",
    "print(pd.DataFrame(result_text.items(), columns=['Key', 'Value']))"
   ]
  }
 ],
 "metadata": {
  "kernelspec": {
   "display_name": "Python 3 (ipykernel)",
   "language": "python",
   "name": "python3"
  },
  "language_info": {
   "codemirror_mode": {
    "name": "ipython",
    "version": 3
   },
   "file_extension": ".py",
   "mimetype": "text/x-python",
   "name": "python",
   "nbconvert_exporter": "python",
   "pygments_lexer": "ipython3",
   "version": "3.11.1"
  }
 },
 "nbformat": 4,
 "nbformat_minor": 5
}
